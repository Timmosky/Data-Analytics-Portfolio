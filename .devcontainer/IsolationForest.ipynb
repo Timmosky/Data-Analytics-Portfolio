{
 "cells": [
  {
   "cell_type": "code",
   "execution_count": 1,
   "id": "c801b90a-7f42-4fbf-9f07-6872b07cb507",
   "metadata": {},
   "outputs": [],
   "source": [
    "import pandas as pd\n",
    "import numpy as np\n",
    "import matplotlib.pyplot as plt\n",
    "from sklearn.ensemble import IsolationForest\n"
   ]
  },
  {
   "cell_type": "code",
   "execution_count": 3,
   "id": "2239109f-ac57-4fa9-9539-4d8d9bb01176",
   "metadata": {},
   "outputs": [
    {
     "data": {
      "text/html": [
       "<div>\n",
       "<style scoped>\n",
       "    .dataframe tbody tr th:only-of-type {\n",
       "        vertical-align: middle;\n",
       "    }\n",
       "\n",
       "    .dataframe tbody tr th {\n",
       "        vertical-align: top;\n",
       "    }\n",
       "\n",
       "    .dataframe thead th {\n",
       "        text-align: right;\n",
       "    }\n",
       "</style>\n",
       "<table border=\"1\" class=\"dataframe\">\n",
       "  <thead>\n",
       "    <tr style=\"text-align: right;\">\n",
       "      <th></th>\n",
       "      <th>Item Description</th>\n",
       "      <th>Order Fiscal Week</th>\n",
       "      <th>Quantity Ordered</th>\n",
       "      <th>Order Date</th>\n",
       "    </tr>\n",
       "  </thead>\n",
       "  <tbody>\n",
       "    <tr>\n",
       "      <th>0</th>\n",
       "      <td>DA192 PWA</td>\n",
       "      <td>202102</td>\n",
       "      <td>1</td>\n",
       "      <td>2021-01-08 06:26:00</td>\n",
       "    </tr>\n",
       "    <tr>\n",
       "      <th>1</th>\n",
       "      <td>DA192 PWA</td>\n",
       "      <td>202103</td>\n",
       "      <td>1</td>\n",
       "      <td>2021-01-12 16:48:00</td>\n",
       "    </tr>\n",
       "    <tr>\n",
       "      <th>2</th>\n",
       "      <td>DA192 PWA</td>\n",
       "      <td>202104</td>\n",
       "      <td>1</td>\n",
       "      <td>2021-01-20 12:57:00</td>\n",
       "    </tr>\n",
       "    <tr>\n",
       "      <th>3</th>\n",
       "      <td>DA192 PWA</td>\n",
       "      <td>202104</td>\n",
       "      <td>1</td>\n",
       "      <td>2021-01-22 19:46:00</td>\n",
       "    </tr>\n",
       "    <tr>\n",
       "      <th>4</th>\n",
       "      <td>DA192 PWA</td>\n",
       "      <td>202105</td>\n",
       "      <td>1</td>\n",
       "      <td>2021-01-28 06:26:00</td>\n",
       "    </tr>\n",
       "    <tr>\n",
       "      <th>...</th>\n",
       "      <td>...</td>\n",
       "      <td>...</td>\n",
       "      <td>...</td>\n",
       "      <td>...</td>\n",
       "    </tr>\n",
       "    <tr>\n",
       "      <th>452</th>\n",
       "      <td>DA192 PWA</td>\n",
       "      <td>202252</td>\n",
       "      <td>1</td>\n",
       "      <td>2022-12-28 08:45:00</td>\n",
       "    </tr>\n",
       "    <tr>\n",
       "      <th>453</th>\n",
       "      <td>DA192 PWA</td>\n",
       "      <td>202252</td>\n",
       "      <td>1</td>\n",
       "      <td>2022-12-29 01:15:00</td>\n",
       "    </tr>\n",
       "    <tr>\n",
       "      <th>454</th>\n",
       "      <td>DA192 PWA</td>\n",
       "      <td>202252</td>\n",
       "      <td>1</td>\n",
       "      <td>2022-12-29 03:04:00</td>\n",
       "    </tr>\n",
       "    <tr>\n",
       "      <th>455</th>\n",
       "      <td>DA192 PWA</td>\n",
       "      <td>202252</td>\n",
       "      <td>1</td>\n",
       "      <td>2022-12-30 08:36:00</td>\n",
       "    </tr>\n",
       "    <tr>\n",
       "      <th>456</th>\n",
       "      <td>DA192 PWA</td>\n",
       "      <td>202252</td>\n",
       "      <td>1</td>\n",
       "      <td>2022-12-30 13:00:00</td>\n",
       "    </tr>\n",
       "  </tbody>\n",
       "</table>\n",
       "<p>457 rows × 4 columns</p>\n",
       "</div>"
      ],
      "text/plain": [
       "    Item Description  Order Fiscal Week  Quantity Ordered           Order Date\n",
       "0          DA192 PWA             202102                 1  2021-01-08 06:26:00\n",
       "1          DA192 PWA             202103                 1  2021-01-12 16:48:00\n",
       "2          DA192 PWA             202104                 1  2021-01-20 12:57:00\n",
       "3          DA192 PWA             202104                 1  2021-01-22 19:46:00\n",
       "4          DA192 PWA             202105                 1  2021-01-28 06:26:00\n",
       "..               ...                ...               ...                  ...\n",
       "452        DA192 PWA             202252                 1  2022-12-28 08:45:00\n",
       "453        DA192 PWA             202252                 1  2022-12-29 01:15:00\n",
       "454        DA192 PWA             202252                 1  2022-12-29 03:04:00\n",
       "455        DA192 PWA             202252                 1  2022-12-30 08:36:00\n",
       "456        DA192 PWA             202252                 1  2022-12-30 13:00:00\n",
       "\n",
       "[457 rows x 4 columns]"
      ]
     },
     "execution_count": 3,
     "metadata": {},
     "output_type": "execute_result"
    }
   ],
   "source": [
    "df = pd.read_csv(r\"C:\\Users\\timil\\Downloads\\Isolation_test.csv\")\n",
    "df"
   ]
  },
  {
   "cell_type": "code",
   "execution_count": 4,
   "id": "73103dc0-6d07-4c5d-9e80-fcf82374d225",
   "metadata": {},
   "outputs": [
    {
     "data": {
      "text/plain": [
       "Item Description     0\n",
       "Order Fiscal Week    0\n",
       "Quantity Ordered     0\n",
       "Order Date           0\n",
       "dtype: int64"
      ]
     },
     "execution_count": 4,
     "metadata": {},
     "output_type": "execute_result"
    }
   ],
   "source": [
    "df.isna().sum()"
   ]
  },
  {
   "cell_type": "code",
   "execution_count": 5,
   "id": "2d6284b7-8b8a-4a01-84f6-b77cf0245153",
   "metadata": {},
   "outputs": [
    {
     "data": {
      "text/plain": [
       "Item Description     object\n",
       "Order Fiscal Week     int64\n",
       "Quantity Ordered      int64\n",
       "Order Date           object\n",
       "dtype: object"
      ]
     },
     "execution_count": 5,
     "metadata": {},
     "output_type": "execute_result"
    }
   ],
   "source": [
    "df.dtypes"
   ]
  },
  {
   "cell_type": "code",
   "execution_count": 6,
   "id": "a6639838-5413-4459-aea3-0173363ab1e4",
   "metadata": {},
   "outputs": [],
   "source": [
    "df['Order Date'] = pd.to_datetime(df['Order Date'])"
   ]
  },
  {
   "cell_type": "code",
   "execution_count": 7,
   "id": "b1bf4bca-a0f1-499a-bb84-79ee26c93115",
   "metadata": {},
   "outputs": [
    {
     "data": {
      "text/plain": [
       "Item Description             object\n",
       "Order Fiscal Week             int64\n",
       "Quantity Ordered              int64\n",
       "Order Date           datetime64[ns]\n",
       "dtype: object"
      ]
     },
     "execution_count": 7,
     "metadata": {},
     "output_type": "execute_result"
    }
   ],
   "source": [
    "df.dtypes"
   ]
  },
  {
   "cell_type": "code",
   "execution_count": 8,
   "id": "ef285c74-5263-4022-aa4e-7475567b90eb",
   "metadata": {},
   "outputs": [],
   "source": [
    "df['Order Fiscal Week'] = pd.to_datetime(df['Order Fiscal Week'])"
   ]
  },
  {
   "cell_type": "code",
   "execution_count": 9,
   "id": "b359158d-5cf5-4973-85d3-2a8239c73399",
   "metadata": {},
   "outputs": [
    {
     "data": {
      "text/html": [
       "<div>\n",
       "<style scoped>\n",
       "    .dataframe tbody tr th:only-of-type {\n",
       "        vertical-align: middle;\n",
       "    }\n",
       "\n",
       "    .dataframe tbody tr th {\n",
       "        vertical-align: top;\n",
       "    }\n",
       "\n",
       "    .dataframe thead th {\n",
       "        text-align: right;\n",
       "    }\n",
       "</style>\n",
       "<table border=\"1\" class=\"dataframe\">\n",
       "  <thead>\n",
       "    <tr style=\"text-align: right;\">\n",
       "      <th></th>\n",
       "      <th>Item Description</th>\n",
       "      <th>Order Fiscal Week</th>\n",
       "      <th>Quantity Ordered</th>\n",
       "      <th>Order Date</th>\n",
       "    </tr>\n",
       "  </thead>\n",
       "  <tbody>\n",
       "    <tr>\n",
       "      <th>0</th>\n",
       "      <td>DA192 PWA</td>\n",
       "      <td>1970-01-01 00:00:00.000202102</td>\n",
       "      <td>1</td>\n",
       "      <td>2021-01-08 06:26:00</td>\n",
       "    </tr>\n",
       "    <tr>\n",
       "      <th>1</th>\n",
       "      <td>DA192 PWA</td>\n",
       "      <td>1970-01-01 00:00:00.000202103</td>\n",
       "      <td>1</td>\n",
       "      <td>2021-01-12 16:48:00</td>\n",
       "    </tr>\n",
       "    <tr>\n",
       "      <th>2</th>\n",
       "      <td>DA192 PWA</td>\n",
       "      <td>1970-01-01 00:00:00.000202104</td>\n",
       "      <td>1</td>\n",
       "      <td>2021-01-20 12:57:00</td>\n",
       "    </tr>\n",
       "    <tr>\n",
       "      <th>3</th>\n",
       "      <td>DA192 PWA</td>\n",
       "      <td>1970-01-01 00:00:00.000202104</td>\n",
       "      <td>1</td>\n",
       "      <td>2021-01-22 19:46:00</td>\n",
       "    </tr>\n",
       "    <tr>\n",
       "      <th>4</th>\n",
       "      <td>DA192 PWA</td>\n",
       "      <td>1970-01-01 00:00:00.000202105</td>\n",
       "      <td>1</td>\n",
       "      <td>2021-01-28 06:26:00</td>\n",
       "    </tr>\n",
       "    <tr>\n",
       "      <th>...</th>\n",
       "      <td>...</td>\n",
       "      <td>...</td>\n",
       "      <td>...</td>\n",
       "      <td>...</td>\n",
       "    </tr>\n",
       "    <tr>\n",
       "      <th>452</th>\n",
       "      <td>DA192 PWA</td>\n",
       "      <td>1970-01-01 00:00:00.000202252</td>\n",
       "      <td>1</td>\n",
       "      <td>2022-12-28 08:45:00</td>\n",
       "    </tr>\n",
       "    <tr>\n",
       "      <th>453</th>\n",
       "      <td>DA192 PWA</td>\n",
       "      <td>1970-01-01 00:00:00.000202252</td>\n",
       "      <td>1</td>\n",
       "      <td>2022-12-29 01:15:00</td>\n",
       "    </tr>\n",
       "    <tr>\n",
       "      <th>454</th>\n",
       "      <td>DA192 PWA</td>\n",
       "      <td>1970-01-01 00:00:00.000202252</td>\n",
       "      <td>1</td>\n",
       "      <td>2022-12-29 03:04:00</td>\n",
       "    </tr>\n",
       "    <tr>\n",
       "      <th>455</th>\n",
       "      <td>DA192 PWA</td>\n",
       "      <td>1970-01-01 00:00:00.000202252</td>\n",
       "      <td>1</td>\n",
       "      <td>2022-12-30 08:36:00</td>\n",
       "    </tr>\n",
       "    <tr>\n",
       "      <th>456</th>\n",
       "      <td>DA192 PWA</td>\n",
       "      <td>1970-01-01 00:00:00.000202252</td>\n",
       "      <td>1</td>\n",
       "      <td>2022-12-30 13:00:00</td>\n",
       "    </tr>\n",
       "  </tbody>\n",
       "</table>\n",
       "<p>457 rows × 4 columns</p>\n",
       "</div>"
      ],
      "text/plain": [
       "    Item Description             Order Fiscal Week  Quantity Ordered  \\\n",
       "0          DA192 PWA 1970-01-01 00:00:00.000202102                 1   \n",
       "1          DA192 PWA 1970-01-01 00:00:00.000202103                 1   \n",
       "2          DA192 PWA 1970-01-01 00:00:00.000202104                 1   \n",
       "3          DA192 PWA 1970-01-01 00:00:00.000202104                 1   \n",
       "4          DA192 PWA 1970-01-01 00:00:00.000202105                 1   \n",
       "..               ...                           ...               ...   \n",
       "452        DA192 PWA 1970-01-01 00:00:00.000202252                 1   \n",
       "453        DA192 PWA 1970-01-01 00:00:00.000202252                 1   \n",
       "454        DA192 PWA 1970-01-01 00:00:00.000202252                 1   \n",
       "455        DA192 PWA 1970-01-01 00:00:00.000202252                 1   \n",
       "456        DA192 PWA 1970-01-01 00:00:00.000202252                 1   \n",
       "\n",
       "             Order Date  \n",
       "0   2021-01-08 06:26:00  \n",
       "1   2021-01-12 16:48:00  \n",
       "2   2021-01-20 12:57:00  \n",
       "3   2021-01-22 19:46:00  \n",
       "4   2021-01-28 06:26:00  \n",
       "..                  ...  \n",
       "452 2022-12-28 08:45:00  \n",
       "453 2022-12-29 01:15:00  \n",
       "454 2022-12-29 03:04:00  \n",
       "455 2022-12-30 08:36:00  \n",
       "456 2022-12-30 13:00:00  \n",
       "\n",
       "[457 rows x 4 columns]"
      ]
     },
     "execution_count": 9,
     "metadata": {},
     "output_type": "execute_result"
    }
   ],
   "source": [
    "df"
   ]
  },
  {
   "cell_type": "code",
   "execution_count": 10,
   "id": "df81336b-f889-4928-904c-0daa4d10777a",
   "metadata": {},
   "outputs": [],
   "source": [
    "weekly = (\n",
    "    df.groupby([\"Item Description\", pd.Grouper(key=\"Order Date\", freq=\"W\")])[\"Quantity Ordered\"]\n",
    "    .sum()\n",
    "    .reset_index()\n",
    ")"
   ]
  },
  {
   "cell_type": "code",
   "execution_count": 11,
   "id": "a79d2ef2-d2e8-45b6-88c4-802df47e82be",
   "metadata": {},
   "outputs": [
    {
     "data": {
      "text/html": [
       "<div>\n",
       "<style scoped>\n",
       "    .dataframe tbody tr th:only-of-type {\n",
       "        vertical-align: middle;\n",
       "    }\n",
       "\n",
       "    .dataframe tbody tr th {\n",
       "        vertical-align: top;\n",
       "    }\n",
       "\n",
       "    .dataframe thead th {\n",
       "        text-align: right;\n",
       "    }\n",
       "</style>\n",
       "<table border=\"1\" class=\"dataframe\">\n",
       "  <thead>\n",
       "    <tr style=\"text-align: right;\">\n",
       "      <th></th>\n",
       "      <th>Item Description</th>\n",
       "      <th>Order Date</th>\n",
       "      <th>Quantity Ordered</th>\n",
       "    </tr>\n",
       "  </thead>\n",
       "  <tbody>\n",
       "    <tr>\n",
       "      <th>0</th>\n",
       "      <td>DA192 PWA</td>\n",
       "      <td>2021-01-10</td>\n",
       "      <td>1</td>\n",
       "    </tr>\n",
       "    <tr>\n",
       "      <th>1</th>\n",
       "      <td>DA192 PWA</td>\n",
       "      <td>2021-01-17</td>\n",
       "      <td>1</td>\n",
       "    </tr>\n",
       "    <tr>\n",
       "      <th>2</th>\n",
       "      <td>DA192 PWA</td>\n",
       "      <td>2021-01-24</td>\n",
       "      <td>2</td>\n",
       "    </tr>\n",
       "    <tr>\n",
       "      <th>3</th>\n",
       "      <td>DA192 PWA</td>\n",
       "      <td>2021-01-31</td>\n",
       "      <td>2</td>\n",
       "    </tr>\n",
       "    <tr>\n",
       "      <th>4</th>\n",
       "      <td>DA192 PWA</td>\n",
       "      <td>2021-02-07</td>\n",
       "      <td>2</td>\n",
       "    </tr>\n",
       "    <tr>\n",
       "      <th>...</th>\n",
       "      <td>...</td>\n",
       "      <td>...</td>\n",
       "      <td>...</td>\n",
       "    </tr>\n",
       "    <tr>\n",
       "      <th>86</th>\n",
       "      <td>DA192 PWA</td>\n",
       "      <td>2022-12-04</td>\n",
       "      <td>8</td>\n",
       "    </tr>\n",
       "    <tr>\n",
       "      <th>87</th>\n",
       "      <td>DA192 PWA</td>\n",
       "      <td>2022-12-11</td>\n",
       "      <td>11</td>\n",
       "    </tr>\n",
       "    <tr>\n",
       "      <th>88</th>\n",
       "      <td>DA192 PWA</td>\n",
       "      <td>2022-12-18</td>\n",
       "      <td>12</td>\n",
       "    </tr>\n",
       "    <tr>\n",
       "      <th>89</th>\n",
       "      <td>DA192 PWA</td>\n",
       "      <td>2022-12-25</td>\n",
       "      <td>14</td>\n",
       "    </tr>\n",
       "    <tr>\n",
       "      <th>90</th>\n",
       "      <td>DA192 PWA</td>\n",
       "      <td>2023-01-01</td>\n",
       "      <td>9</td>\n",
       "    </tr>\n",
       "  </tbody>\n",
       "</table>\n",
       "<p>91 rows × 3 columns</p>\n",
       "</div>"
      ],
      "text/plain": [
       "   Item Description Order Date  Quantity Ordered\n",
       "0         DA192 PWA 2021-01-10                 1\n",
       "1         DA192 PWA 2021-01-17                 1\n",
       "2         DA192 PWA 2021-01-24                 2\n",
       "3         DA192 PWA 2021-01-31                 2\n",
       "4         DA192 PWA 2021-02-07                 2\n",
       "..              ...        ...               ...\n",
       "86        DA192 PWA 2022-12-04                 8\n",
       "87        DA192 PWA 2022-12-11                11\n",
       "88        DA192 PWA 2022-12-18                12\n",
       "89        DA192 PWA 2022-12-25                14\n",
       "90        DA192 PWA 2023-01-01                 9\n",
       "\n",
       "[91 rows x 3 columns]"
      ]
     },
     "execution_count": 11,
     "metadata": {},
     "output_type": "execute_result"
    }
   ],
   "source": [
    "weekly"
   ]
  },
  {
   "cell_type": "code",
   "execution_count": 12,
   "id": "b4833002-b90c-4885-9c1d-128df0797436",
   "metadata": {},
   "outputs": [],
   "source": [
    "results = []\n",
    "for item, subdf in weekly.groupby(\"Item Description\"):\n",
    "    X = subdf[[\"Quantity Ordered\"]].values\n",
    "\n",
    "    # Initialize Isolation Forest\n",
    "    iso = IsolationForest(\n",
    "        contamination=0.05,\n",
    "        random_state=42\n",
    "    )\n",
    "    iso.fit(X)\n",
    "\n",
    "    # Predict anomalies\n",
    "    subdf[\"Anomaly_Score\"] = iso.decision_function(X)\n",
    "    subdf[\"Anomaly\"] = iso.predict(X)\n",
    "    \n",
    "\n",
    "    results.append(subdf)\n",
    "\n",
    "anomaly_df = pd.concat(results).reset_index(drop=True)\n"
   ]
  },
  {
   "cell_type": "code",
   "execution_count": 13,
   "id": "a97befb4-96ed-42b7-a752-bb9541594e57",
   "metadata": {},
   "outputs": [
    {
     "data": {
      "image/png": "[encoded data removed]",
      "text/plain": [
       "<Figure size 1200x600 with 1 Axes>"
      ]
     },
     "metadata": {},
     "output_type": "display_data"
    }
   ],
   "source": [
    "item_to_plot = anomaly_df[\"Item Description\"].unique()[0]  # change as needed\n",
    "subset = anomaly_df[anomaly_df[\"Item Description\"] == item_to_plot]\n",
    "\n",
    "plt.figure(figsize=(12, 6))\n",
    "plt.plot(subset[\"Order Date\"], subset[\"Quantity Ordered\"], label=\"Weekly Qty\", marker=\"o\")\n",
    "plt.scatter(\n",
    "    subset.loc[subset[\"Anomaly\"] == -1, \"Order Date\"],\n",
    "    subset.loc[subset[\"Anomaly\"] == -1, \"Quantity Ordered\"],\n",
    "    color=\"red\",\n",
    "    label=\"Anomaly (High Qty)\",\n",
    "    s=100,\n",
    ")\n",
    "plt.title(f\"Weekly Quantity with Anomalies for {item_to_plot}\")\n",
    "plt.xlabel(\"Week\")\n",
    "plt.ylabel(\"Quantity Ordered\")\n",
    "plt.legend()\n",
    "plt.grid(True)\n",
    "plt.tight_layout()\n",
    "plt.show()"
   ]
  },
  {
   "cell_type": "code",
   "execution_count": 14,
   "id": "4c4fe335-bb12-4cf0-adfb-204f04389d47",
   "metadata": {},
   "outputs": [
    {
     "name": "stdout",
     "output_type": "stream",
     "text": [
      "   Item Description Order Date  Quantity Ordered  Anomaly_Score  Anomaly\n",
      "63        DA192 PWA 2022-06-26                10      -0.015839       -1\n",
      "77        DA192 PWA 2022-10-02                14      -0.013600       -1\n",
      "81        DA192 PWA 2022-10-30                15      -0.085567       -1\n",
      "84        DA192 PWA 2022-11-20                18      -0.175097       -1\n",
      "89        DA192 PWA 2022-12-25                14      -0.013600       -1\n"
     ]
    }
   ],
   "source": [
    "print(anomaly_df[anomaly_df[\"Anomaly\"] == -1].sort_values(by=[\"Item Description\", \"Order Date\"]))\n"
   ]
  },
  {
   "cell_type": "code",
   "execution_count": null,
   "id": "2714e2f1-c251-4848-8efb-f2593324a33f",
   "metadata": {},
   "outputs": [],
   "source": []
  }
 ],
 "metadata": {
  "kernelspec": {
   "display_name": "Python 3 (ipykernel)",
   "language": "python",
   "name": "python3"
  },
  "language_info": {
   "codemirror_mode": {
    "name": "ipython",
    "version": 3
   },
   "file_extension": ".py",
   "mimetype": "text/x-python",
   "name": "python",
   "nbconvert_exporter": "python",
   "pygments_lexer": "ipython3",
   "version": "3.9.21"
  }
 },
 "nbformat": 4,
 "nbformat_minor": 5
}
